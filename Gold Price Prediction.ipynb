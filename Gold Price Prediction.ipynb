{
 "cells": [
  {
   "cell_type": "markdown",
   "id": "88347312",
   "metadata": {},
   "source": [
    "# Step->1.Get the data\n",
    "# Step->2.Data PreProcessing\n",
    "# Step->3.Data Analysis\n",
    "# Step->4.Train Test Split\n",
    "# Step->5.Apply the Model\n",
    "# Step->6.Evaluate the Model"
   ]
  },
  {
   "cell_type": "markdown",
   "id": "5ed4200c",
   "metadata": {},
   "source": [
    "Importing the libraries"
   ]
  },
  {
   "cell_type": "code",
   "execution_count": 9,
   "id": "f3f25ef9",
   "metadata": {},
   "outputs": [],
   "source": [
    "import numpy as np\n",
    "import pandas as pd\n",
    "import matplotlib.pyplot as plt\n",
    "import seaborn as sns\n",
    "from sklearn.model_selection import train_test_split\n",
    "from sklearn.ensemble import RandomForestRegressor\n",
    "from sklearn import metrics "
   ]
  },
  {
   "cell_type": "markdown",
   "id": "6ddb0979",
   "metadata": {},
   "source": [
    "Data Collection and Processing"
   ]
  },
  {
   "cell_type": "code",
   "execution_count": 10,
   "id": "0594421d",
   "metadata": {},
   "outputs": [],
   "source": [
    "gold_data=pd.read_csv(\"D:\\\\datasets\\\\gold_price_data.csv\")"
   ]
  },
  {
   "cell_type": "code",
   "execution_count": 13,
   "id": "b682dc14",
   "metadata": {},
   "outputs": [
    {
     "data": {
      "text/html": [
       "<div>\n",
       "<style scoped>\n",
       "    .dataframe tbody tr th:only-of-type {\n",
       "        vertical-align: middle;\n",
       "    }\n",
       "\n",
       "    .dataframe tbody tr th {\n",
       "        vertical-align: top;\n",
       "    }\n",
       "\n",
       "    .dataframe thead th {\n",
       "        text-align: right;\n",
       "    }\n",
       "</style>\n",
       "<table border=\"1\" class=\"dataframe\">\n",
       "  <thead>\n",
       "    <tr style=\"text-align: right;\">\n",
       "      <th></th>\n",
       "      <th>Date</th>\n",
       "      <th>SPX</th>\n",
       "      <th>GLD</th>\n",
       "      <th>USO</th>\n",
       "      <th>SLV</th>\n",
       "      <th>EUR/USD</th>\n",
       "    </tr>\n",
       "  </thead>\n",
       "  <tbody>\n",
       "    <tr>\n",
       "      <th>0</th>\n",
       "      <td>1/2/2008</td>\n",
       "      <td>1447.160034</td>\n",
       "      <td>84.860001</td>\n",
       "      <td>78.470001</td>\n",
       "      <td>15.180</td>\n",
       "      <td>1.471692</td>\n",
       "    </tr>\n",
       "    <tr>\n",
       "      <th>1</th>\n",
       "      <td>1/3/2008</td>\n",
       "      <td>1447.160034</td>\n",
       "      <td>85.570000</td>\n",
       "      <td>78.370003</td>\n",
       "      <td>15.285</td>\n",
       "      <td>1.474491</td>\n",
       "    </tr>\n",
       "    <tr>\n",
       "      <th>2</th>\n",
       "      <td>1/4/2008</td>\n",
       "      <td>1411.630005</td>\n",
       "      <td>85.129997</td>\n",
       "      <td>77.309998</td>\n",
       "      <td>15.167</td>\n",
       "      <td>1.475492</td>\n",
       "    </tr>\n",
       "    <tr>\n",
       "      <th>3</th>\n",
       "      <td>1/7/2008</td>\n",
       "      <td>1416.180054</td>\n",
       "      <td>84.769997</td>\n",
       "      <td>75.500000</td>\n",
       "      <td>15.053</td>\n",
       "      <td>1.468299</td>\n",
       "    </tr>\n",
       "    <tr>\n",
       "      <th>4</th>\n",
       "      <td>1/8/2008</td>\n",
       "      <td>1390.189941</td>\n",
       "      <td>86.779999</td>\n",
       "      <td>76.059998</td>\n",
       "      <td>15.590</td>\n",
       "      <td>1.557099</td>\n",
       "    </tr>\n",
       "  </tbody>\n",
       "</table>\n",
       "</div>"
      ],
      "text/plain": [
       "       Date          SPX        GLD        USO     SLV   EUR/USD\n",
       "0  1/2/2008  1447.160034  84.860001  78.470001  15.180  1.471692\n",
       "1  1/3/2008  1447.160034  85.570000  78.370003  15.285  1.474491\n",
       "2  1/4/2008  1411.630005  85.129997  77.309998  15.167  1.475492\n",
       "3  1/7/2008  1416.180054  84.769997  75.500000  15.053  1.468299\n",
       "4  1/8/2008  1390.189941  86.779999  76.059998  15.590  1.557099"
      ]
     },
     "execution_count": 13,
     "metadata": {},
     "output_type": "execute_result"
    }
   ],
   "source": [
    "gold_data.head()"
   ]
  },
  {
   "cell_type": "markdown",
   "id": "e07f37c5",
   "metadata": {},
   "source": [
    "SPX: This typically refers to the Standard & Poor's 500 Index, which is a stock market index that measures the stock performance of 500 large companies listed on stock exchanges in the United States. The SPX column in the gold price dataset could indicate the movement or performance of the S&P 500 index and its potential impact on the price of gold. Generally, there's an inverse relationship between the stock market (represented by SPX) and the price of gold; when the stock market is performing poorly, investors often turn to gold as a safe-haven asset, driving up its price.\n",
    "\n",
    "GLD: This likely refers to the SPDR Gold Shares, which is an exchange-traded fund (ETF) that tracks the price of gold bullion. GLD is one of the most popular gold ETFs, and its price movement is directly linked to changes in the price of gold. Therefore, the GLD column in the dataset would represent the price of this gold ETF, providing a direct indicator of gold price movements.\n",
    "\n",
    "USO: This typically refers to the United States Oil Fund, which is an ETF that tracks the price of crude oil. While oil and gold are not directly correlated in the same way as stocks and gold, they can be influenced by similar macroeconomic factors such as inflation, geopolitical tensions, and overall market sentiment. Therefore, the USO column in the dataset could represent the price of crude oil and its potential influence on the price of gold.\n",
    "\n",
    "SLV: This likely refers to the iShares Silver Trust, which is an ETF that tracks the price of silver bullion. Like GLD, SLV represents the price movement of a precious metal, specifically silver. While silver and gold are not identical in their price movements, they are often influenced by similar macroeconomic factors and can exhibit some degree of correlation. Therefore, the SLV column in the dataset could provide insight into the price movements of silver and its potential impact on the price of gold.\n",
    "\n",
    "EUR/USD: This represents the exchange rate between the Euro and the US Dollar. Currency exchange rates, particularly major pairs like EUR/USD, can influence the price of gold due to their role in global trade and financial markets. A weaker US dollar relative to other currencies, such as the Euro, can make gold relatively cheaper for investors holding other currencies, potentially increasing demand and driving up the price of gold. Therefore, the EUR/USD column in the dataset could indicate the strength of the US dollar relative to the Euro and its potential impact on the price of gold.\n",
    "\n",
    "\n",
    "using different features we will predict the price of Gold."
   ]
  },
  {
   "cell_type": "code",
   "execution_count": 17,
   "id": "9439d57c",
   "metadata": {},
   "outputs": [
    {
     "data": {
      "text/html": [
       "<div>\n",
       "<style scoped>\n",
       "    .dataframe tbody tr th:only-of-type {\n",
       "        vertical-align: middle;\n",
       "    }\n",
       "\n",
       "    .dataframe tbody tr th {\n",
       "        vertical-align: top;\n",
       "    }\n",
       "\n",
       "    .dataframe thead th {\n",
       "        text-align: right;\n",
       "    }\n",
       "</style>\n",
       "<table border=\"1\" class=\"dataframe\">\n",
       "  <thead>\n",
       "    <tr style=\"text-align: right;\">\n",
       "      <th></th>\n",
       "      <th>Date</th>\n",
       "      <th>SPX</th>\n",
       "      <th>GLD</th>\n",
       "      <th>USO</th>\n",
       "      <th>SLV</th>\n",
       "      <th>EUR/USD</th>\n",
       "    </tr>\n",
       "  </thead>\n",
       "  <tbody>\n",
       "    <tr>\n",
       "      <th>2285</th>\n",
       "      <td>5/8/2018</td>\n",
       "      <td>2671.919922</td>\n",
       "      <td>124.589996</td>\n",
       "      <td>14.0600</td>\n",
       "      <td>15.5100</td>\n",
       "      <td>1.186789</td>\n",
       "    </tr>\n",
       "    <tr>\n",
       "      <th>2286</th>\n",
       "      <td>5/9/2018</td>\n",
       "      <td>2697.790039</td>\n",
       "      <td>124.330002</td>\n",
       "      <td>14.3700</td>\n",
       "      <td>15.5300</td>\n",
       "      <td>1.184722</td>\n",
       "    </tr>\n",
       "    <tr>\n",
       "      <th>2287</th>\n",
       "      <td>5/10/2018</td>\n",
       "      <td>2723.070068</td>\n",
       "      <td>125.180000</td>\n",
       "      <td>14.4100</td>\n",
       "      <td>15.7400</td>\n",
       "      <td>1.191753</td>\n",
       "    </tr>\n",
       "    <tr>\n",
       "      <th>2288</th>\n",
       "      <td>5/14/2018</td>\n",
       "      <td>2730.129883</td>\n",
       "      <td>124.489998</td>\n",
       "      <td>14.3800</td>\n",
       "      <td>15.5600</td>\n",
       "      <td>1.193118</td>\n",
       "    </tr>\n",
       "    <tr>\n",
       "      <th>2289</th>\n",
       "      <td>5/16/2018</td>\n",
       "      <td>2725.780029</td>\n",
       "      <td>122.543800</td>\n",
       "      <td>14.4058</td>\n",
       "      <td>15.4542</td>\n",
       "      <td>1.182033</td>\n",
       "    </tr>\n",
       "  </tbody>\n",
       "</table>\n",
       "</div>"
      ],
      "text/plain": [
       "           Date          SPX         GLD      USO      SLV   EUR/USD\n",
       "2285   5/8/2018  2671.919922  124.589996  14.0600  15.5100  1.186789\n",
       "2286   5/9/2018  2697.790039  124.330002  14.3700  15.5300  1.184722\n",
       "2287  5/10/2018  2723.070068  125.180000  14.4100  15.7400  1.191753\n",
       "2288  5/14/2018  2730.129883  124.489998  14.3800  15.5600  1.193118\n",
       "2289  5/16/2018  2725.780029  122.543800  14.4058  15.4542  1.182033"
      ]
     },
     "execution_count": 17,
     "metadata": {},
     "output_type": "execute_result"
    }
   ],
   "source": [
    "gold_data.tail()"
   ]
  },
  {
   "cell_type": "markdown",
   "id": "7ba46e9d",
   "metadata": {},
   "source": [
    "we have data from 2008 to 2018\n"
   ]
  },
  {
   "cell_type": "code",
   "execution_count": 36,
   "id": "8d8d8eb1",
   "metadata": {},
   "outputs": [
    {
     "data": {
      "text/plain": [
       "(2290, 6)"
      ]
     },
     "execution_count": 36,
     "metadata": {},
     "output_type": "execute_result"
    }
   ],
   "source": [
    "gold_data.shape"
   ]
  },
  {
   "cell_type": "code",
   "execution_count": 22,
   "id": "82d96d7b",
   "metadata": {},
   "outputs": [
    {
     "name": "stdout",
     "output_type": "stream",
     "text": [
      "<class 'pandas.core.frame.DataFrame'>\n",
      "RangeIndex: 2290 entries, 0 to 2289\n",
      "Data columns (total 6 columns):\n",
      " #   Column   Non-Null Count  Dtype  \n",
      "---  ------   --------------  -----  \n",
      " 0   Date     2290 non-null   object \n",
      " 1   SPX      2290 non-null   float64\n",
      " 2   GLD      2290 non-null   float64\n",
      " 3   USO      2290 non-null   float64\n",
      " 4   SLV      2290 non-null   float64\n",
      " 5   EUR/USD  2290 non-null   float64\n",
      "dtypes: float64(5), object(1)\n",
      "memory usage: 107.5+ KB\n"
     ]
    }
   ],
   "source": [
    "gold_data.info()"
   ]
  },
  {
   "cell_type": "code",
   "execution_count": 26,
   "id": "c1a3f87d",
   "metadata": {},
   "outputs": [
    {
     "data": {
      "text/plain": [
       "Date       0\n",
       "SPX        0\n",
       "GLD        0\n",
       "USO        0\n",
       "SLV        0\n",
       "EUR/USD    0\n",
       "dtype: int64"
      ]
     },
     "execution_count": 26,
     "metadata": {},
     "output_type": "execute_result"
    }
   ],
   "source": [
    "gold_data.isnull().sum()"
   ]
  },
  {
   "cell_type": "markdown",
   "id": "cfa226ea",
   "metadata": {},
   "source": [
    "we have no null values in any columns."
   ]
  },
  {
   "cell_type": "code",
   "execution_count": 27,
   "id": "5b179d41",
   "metadata": {},
   "outputs": [
    {
     "data": {
      "text/html": [
       "<div>\n",
       "<style scoped>\n",
       "    .dataframe tbody tr th:only-of-type {\n",
       "        vertical-align: middle;\n",
       "    }\n",
       "\n",
       "    .dataframe tbody tr th {\n",
       "        vertical-align: top;\n",
       "    }\n",
       "\n",
       "    .dataframe thead th {\n",
       "        text-align: right;\n",
       "    }\n",
       "</style>\n",
       "<table border=\"1\" class=\"dataframe\">\n",
       "  <thead>\n",
       "    <tr style=\"text-align: right;\">\n",
       "      <th></th>\n",
       "      <th>SPX</th>\n",
       "      <th>GLD</th>\n",
       "      <th>USO</th>\n",
       "      <th>SLV</th>\n",
       "      <th>EUR/USD</th>\n",
       "    </tr>\n",
       "  </thead>\n",
       "  <tbody>\n",
       "    <tr>\n",
       "      <th>count</th>\n",
       "      <td>2290.000000</td>\n",
       "      <td>2290.000000</td>\n",
       "      <td>2290.000000</td>\n",
       "      <td>2290.000000</td>\n",
       "      <td>2290.000000</td>\n",
       "    </tr>\n",
       "    <tr>\n",
       "      <th>mean</th>\n",
       "      <td>1654.315776</td>\n",
       "      <td>122.732875</td>\n",
       "      <td>31.842221</td>\n",
       "      <td>20.084997</td>\n",
       "      <td>1.283653</td>\n",
       "    </tr>\n",
       "    <tr>\n",
       "      <th>std</th>\n",
       "      <td>519.111540</td>\n",
       "      <td>23.283346</td>\n",
       "      <td>19.523517</td>\n",
       "      <td>7.092566</td>\n",
       "      <td>0.131547</td>\n",
       "    </tr>\n",
       "    <tr>\n",
       "      <th>min</th>\n",
       "      <td>676.530029</td>\n",
       "      <td>70.000000</td>\n",
       "      <td>7.960000</td>\n",
       "      <td>8.850000</td>\n",
       "      <td>1.039047</td>\n",
       "    </tr>\n",
       "    <tr>\n",
       "      <th>25%</th>\n",
       "      <td>1239.874969</td>\n",
       "      <td>109.725000</td>\n",
       "      <td>14.380000</td>\n",
       "      <td>15.570000</td>\n",
       "      <td>1.171313</td>\n",
       "    </tr>\n",
       "    <tr>\n",
       "      <th>50%</th>\n",
       "      <td>1551.434998</td>\n",
       "      <td>120.580002</td>\n",
       "      <td>33.869999</td>\n",
       "      <td>17.268500</td>\n",
       "      <td>1.303297</td>\n",
       "    </tr>\n",
       "    <tr>\n",
       "      <th>75%</th>\n",
       "      <td>2073.010070</td>\n",
       "      <td>132.840004</td>\n",
       "      <td>37.827501</td>\n",
       "      <td>22.882500</td>\n",
       "      <td>1.369971</td>\n",
       "    </tr>\n",
       "    <tr>\n",
       "      <th>max</th>\n",
       "      <td>2872.870117</td>\n",
       "      <td>184.589996</td>\n",
       "      <td>117.480003</td>\n",
       "      <td>47.259998</td>\n",
       "      <td>1.598798</td>\n",
       "    </tr>\n",
       "  </tbody>\n",
       "</table>\n",
       "</div>"
      ],
      "text/plain": [
       "               SPX          GLD          USO          SLV      EUR/USD\n",
       "count  2290.000000  2290.000000  2290.000000  2290.000000  2290.000000\n",
       "mean   1654.315776   122.732875    31.842221    20.084997     1.283653\n",
       "std     519.111540    23.283346    19.523517     7.092566     0.131547\n",
       "min     676.530029    70.000000     7.960000     8.850000     1.039047\n",
       "25%    1239.874969   109.725000    14.380000    15.570000     1.171313\n",
       "50%    1551.434998   120.580002    33.869999    17.268500     1.303297\n",
       "75%    2073.010070   132.840004    37.827501    22.882500     1.369971\n",
       "max    2872.870117   184.589996   117.480003    47.259998     1.598798"
      ]
     },
     "execution_count": 27,
     "metadata": {},
     "output_type": "execute_result"
    }
   ],
   "source": [
    "gold_data.describe()"
   ]
  },
  {
   "cell_type": "markdown",
   "id": "c2bd7a94",
   "metadata": {},
   "source": [
    "statistical info about the data."
   ]
  },
  {
   "cell_type": "markdown",
   "id": "e39e8801",
   "metadata": {},
   "source": [
    "Correlation:                                                                                                                      \n",
    "    1. Positive correlation.                                                                                                             \n",
    "    2. Negative correlation.                                                                                                     \n",
    "    \n",
    "  eg.  If Gold price increases then silver price will also increase that is positive correlation.\n",
    "    "
   ]
  },
  {
   "cell_type": "code",
   "execution_count": 38,
   "id": "adccea91",
   "metadata": {},
   "outputs": [],
   "source": [
    "gold_data1 = gold_data.drop(columns=['Date'])\n",
    "correlation  = gold_data1.corr()"
   ]
  },
  {
   "cell_type": "code",
   "execution_count": 45,
   "id": "94561868",
   "metadata": {},
   "outputs": [
    {
     "data": {
      "text/plain": [
       "<Axes: >"
      ]
     },
     "execution_count": 45,
     "metadata": {},
     "output_type": "execute_result"
    },
    {
     "data": {
      "image/png": "[encoded data removed]",
      "text/plain": [
       "<Figure size 800x800 with 2 Axes>"
      ]
     },
     "metadata": {},
     "output_type": "display_data"
    }
   ],
   "source": [
    "plt.figure(figsize=(8,8))\n",
    "sns.heatmap(correlation,cbar=True,square=True,fmt='.1f',annot=True,annot_kws={'size':8},cmap='Reds')"
   ]
  },
  {
   "cell_type": "markdown",
   "id": "4c4d3348",
   "metadata": {},
   "source": [
    "Observations:                                                                                                                     \n",
    "1.Gold and silver are positively correlated.                                                                                           \n",
    "2.spx and uso , eur/usd are negatively correlated."
   ]
  },
  {
   "cell_type": "code",
   "execution_count": 46,
   "id": "3062b075",
   "metadata": {},
   "outputs": [
    {
     "name": "stdout",
     "output_type": "stream",
     "text": [
      "SPX        0.049345\n",
      "GLD        1.000000\n",
      "USO       -0.186360\n",
      "SLV        0.866632\n",
      "EUR/USD   -0.024375\n",
      "Name: GLD, dtype: float64\n"
     ]
    }
   ],
   "source": [
    "print(correlation['GLD'])"
   ]
  },
  {
   "cell_type": "code",
   "execution_count": 49,
   "id": "87cfa1b4",
   "metadata": {},
   "outputs": [
    {
     "name": "stderr",
     "output_type": "stream",
     "text": [
      "C:\\Users\\HP\\AppData\\Local\\Temp\\ipykernel_26992\\437433025.py:2: UserWarning: \n",
      "\n",
      "`distplot` is a deprecated function and will be removed in seaborn v0.14.0.\n",
      "\n",
      "Please adapt your code to use either `displot` (a figure-level function with\n",
      "similar flexibility) or `histplot` (an axes-level function for histograms).\n",
      "\n",
      "For a guide to updating your code to use the new functions, please see\n",
      "https://gist.github.com/mwaskom/de44147ed2974457ad6372750bbe5751\n",
      "\n",
      "  sns.distplot(gold_data['GLD'],color='Green')\n"
     ]
    },
    {
     "data": {
      "text/plain": [
       "<Axes: xlabel='GLD', ylabel='Density'>"
      ]
     },
     "execution_count": 49,
     "metadata": {},
     "output_type": "execute_result"
    },
    {
     "data": {
      "image/png": "[encoded data removed]",
      "text/plain": [
       "<Figure size 640x480 with 1 Axes>"
      ]
     },
     "metadata": {},
     "output_type": "display_data"
    }
   ],
   "source": [
    "#checking the distribution of GLD\n",
    "sns.distplot(gold_data['GLD'],color='Green')"
   ]
  },
  {
   "cell_type": "markdown",
   "id": "76acd5e8",
   "metadata": {},
   "source": [
    "observations:                                                                                                                   \n",
    "\n",
    "most of price lie in the 120 range"
   ]
  },
  {
   "cell_type": "code",
   "execution_count": 51,
   "id": "d2b0cdb1",
   "metadata": {},
   "outputs": [],
   "source": [
    "X=gold_data1.drop(['GLD'],axis=1)\n",
    "Y=gold_data['GLD']"
   ]
  },
  {
   "cell_type": "code",
   "execution_count": 52,
   "id": "b0e96828",
   "metadata": {},
   "outputs": [
    {
     "data": {
      "text/html": [
       "<div>\n",
       "<style scoped>\n",
       "    .dataframe tbody tr th:only-of-type {\n",
       "        vertical-align: middle;\n",
       "    }\n",
       "\n",
       "    .dataframe tbody tr th {\n",
       "        vertical-align: top;\n",
       "    }\n",
       "\n",
       "    .dataframe thead th {\n",
       "        text-align: right;\n",
       "    }\n",
       "</style>\n",
       "<table border=\"1\" class=\"dataframe\">\n",
       "  <thead>\n",
       "    <tr style=\"text-align: right;\">\n",
       "      <th></th>\n",
       "      <th>SPX</th>\n",
       "      <th>USO</th>\n",
       "      <th>SLV</th>\n",
       "      <th>EUR/USD</th>\n",
       "    </tr>\n",
       "  </thead>\n",
       "  <tbody>\n",
       "    <tr>\n",
       "      <th>0</th>\n",
       "      <td>1447.160034</td>\n",
       "      <td>78.470001</td>\n",
       "      <td>15.1800</td>\n",
       "      <td>1.471692</td>\n",
       "    </tr>\n",
       "    <tr>\n",
       "      <th>1</th>\n",
       "      <td>1447.160034</td>\n",
       "      <td>78.370003</td>\n",
       "      <td>15.2850</td>\n",
       "      <td>1.474491</td>\n",
       "    </tr>\n",
       "    <tr>\n",
       "      <th>2</th>\n",
       "      <td>1411.630005</td>\n",
       "      <td>77.309998</td>\n",
       "      <td>15.1670</td>\n",
       "      <td>1.475492</td>\n",
       "    </tr>\n",
       "    <tr>\n",
       "      <th>3</th>\n",
       "      <td>1416.180054</td>\n",
       "      <td>75.500000</td>\n",
       "      <td>15.0530</td>\n",
       "      <td>1.468299</td>\n",
       "    </tr>\n",
       "    <tr>\n",
       "      <th>4</th>\n",
       "      <td>1390.189941</td>\n",
       "      <td>76.059998</td>\n",
       "      <td>15.5900</td>\n",
       "      <td>1.557099</td>\n",
       "    </tr>\n",
       "    <tr>\n",
       "      <th>...</th>\n",
       "      <td>...</td>\n",
       "      <td>...</td>\n",
       "      <td>...</td>\n",
       "      <td>...</td>\n",
       "    </tr>\n",
       "    <tr>\n",
       "      <th>2285</th>\n",
       "      <td>2671.919922</td>\n",
       "      <td>14.060000</td>\n",
       "      <td>15.5100</td>\n",
       "      <td>1.186789</td>\n",
       "    </tr>\n",
       "    <tr>\n",
       "      <th>2286</th>\n",
       "      <td>2697.790039</td>\n",
       "      <td>14.370000</td>\n",
       "      <td>15.5300</td>\n",
       "      <td>1.184722</td>\n",
       "    </tr>\n",
       "    <tr>\n",
       "      <th>2287</th>\n",
       "      <td>2723.070068</td>\n",
       "      <td>14.410000</td>\n",
       "      <td>15.7400</td>\n",
       "      <td>1.191753</td>\n",
       "    </tr>\n",
       "    <tr>\n",
       "      <th>2288</th>\n",
       "      <td>2730.129883</td>\n",
       "      <td>14.380000</td>\n",
       "      <td>15.5600</td>\n",
       "      <td>1.193118</td>\n",
       "    </tr>\n",
       "    <tr>\n",
       "      <th>2289</th>\n",
       "      <td>2725.780029</td>\n",
       "      <td>14.405800</td>\n",
       "      <td>15.4542</td>\n",
       "      <td>1.182033</td>\n",
       "    </tr>\n",
       "  </tbody>\n",
       "</table>\n",
       "<p>2290 rows × 4 columns</p>\n",
       "</div>"
      ],
      "text/plain": [
       "              SPX        USO      SLV   EUR/USD\n",
       "0     1447.160034  78.470001  15.1800  1.471692\n",
       "1     1447.160034  78.370003  15.2850  1.474491\n",
       "2     1411.630005  77.309998  15.1670  1.475492\n",
       "3     1416.180054  75.500000  15.0530  1.468299\n",
       "4     1390.189941  76.059998  15.5900  1.557099\n",
       "...           ...        ...      ...       ...\n",
       "2285  2671.919922  14.060000  15.5100  1.186789\n",
       "2286  2697.790039  14.370000  15.5300  1.184722\n",
       "2287  2723.070068  14.410000  15.7400  1.191753\n",
       "2288  2730.129883  14.380000  15.5600  1.193118\n",
       "2289  2725.780029  14.405800  15.4542  1.182033\n",
       "\n",
       "[2290 rows x 4 columns]"
      ]
     },
     "execution_count": 52,
     "metadata": {},
     "output_type": "execute_result"
    }
   ],
   "source": [
    "X"
   ]
  },
  {
   "cell_type": "code",
   "execution_count": 53,
   "id": "1138ee9d",
   "metadata": {},
   "outputs": [
    {
     "data": {
      "text/plain": [
       "0        84.860001\n",
       "1        85.570000\n",
       "2        85.129997\n",
       "3        84.769997\n",
       "4        86.779999\n",
       "           ...    \n",
       "2285    124.589996\n",
       "2286    124.330002\n",
       "2287    125.180000\n",
       "2288    124.489998\n",
       "2289    122.543800\n",
       "Name: GLD, Length: 2290, dtype: float64"
      ]
     },
     "execution_count": 53,
     "metadata": {},
     "output_type": "execute_result"
    }
   ],
   "source": [
    "Y"
   ]
  },
  {
   "cell_type": "markdown",
   "id": "ccac6e19",
   "metadata": {},
   "source": [
    " splitting into train and test data."
   ]
  },
  {
   "cell_type": "code",
   "execution_count": 55,
   "id": "4affff8e",
   "metadata": {},
   "outputs": [],
   "source": [
    "X_train,X_test,Y_train,Y_test = train_test_split(X,Y,test_size=0.2,random_state=2)"
   ]
  },
  {
   "cell_type": "code",
   "execution_count": 56,
   "id": "d662e79e",
   "metadata": {},
   "outputs": [
    {
     "data": {
      "text/html": [
       "<div>\n",
       "<style scoped>\n",
       "    .dataframe tbody tr th:only-of-type {\n",
       "        vertical-align: middle;\n",
       "    }\n",
       "\n",
       "    .dataframe tbody tr th {\n",
       "        vertical-align: top;\n",
       "    }\n",
       "\n",
       "    .dataframe thead th {\n",
       "        text-align: right;\n",
       "    }\n",
       "</style>\n",
       "<table border=\"1\" class=\"dataframe\">\n",
       "  <thead>\n",
       "    <tr style=\"text-align: right;\">\n",
       "      <th></th>\n",
       "      <th>SPX</th>\n",
       "      <th>USO</th>\n",
       "      <th>SLV</th>\n",
       "      <th>EUR/USD</th>\n",
       "    </tr>\n",
       "  </thead>\n",
       "  <tbody>\n",
       "    <tr>\n",
       "      <th>476</th>\n",
       "      <td>1138.500000</td>\n",
       "      <td>39.790001</td>\n",
       "      <td>16.889999</td>\n",
       "      <td>1.361693</td>\n",
       "    </tr>\n",
       "    <tr>\n",
       "      <th>1958</th>\n",
       "      <td>2202.939941</td>\n",
       "      <td>10.630000</td>\n",
       "      <td>15.800000</td>\n",
       "      <td>1.063886</td>\n",
       "    </tr>\n",
       "    <tr>\n",
       "      <th>248</th>\n",
       "      <td>700.820007</td>\n",
       "      <td>24.480000</td>\n",
       "      <td>12.770000</td>\n",
       "      <td>1.256408</td>\n",
       "    </tr>\n",
       "    <tr>\n",
       "      <th>2231</th>\n",
       "      <td>2656.000000</td>\n",
       "      <td>11.890000</td>\n",
       "      <td>15.570000</td>\n",
       "      <td>1.225280</td>\n",
       "    </tr>\n",
       "    <tr>\n",
       "      <th>1325</th>\n",
       "      <td>1838.880005</td>\n",
       "      <td>33.040001</td>\n",
       "      <td>19.420000</td>\n",
       "      <td>1.366998</td>\n",
       "    </tr>\n",
       "    <tr>\n",
       "      <th>...</th>\n",
       "      <td>...</td>\n",
       "      <td>...</td>\n",
       "      <td>...</td>\n",
       "      <td>...</td>\n",
       "    </tr>\n",
       "    <tr>\n",
       "      <th>1071</th>\n",
       "      <td>1409.150024</td>\n",
       "      <td>32.320000</td>\n",
       "      <td>32.980000</td>\n",
       "      <td>1.287515</td>\n",
       "    </tr>\n",
       "    <tr>\n",
       "      <th>433</th>\n",
       "      <td>1132.989990</td>\n",
       "      <td>40.270000</td>\n",
       "      <td>17.230000</td>\n",
       "      <td>1.442398</td>\n",
       "    </tr>\n",
       "    <tr>\n",
       "      <th>674</th>\n",
       "      <td>1286.119995</td>\n",
       "      <td>38.610001</td>\n",
       "      <td>27.389999</td>\n",
       "      <td>1.357276</td>\n",
       "    </tr>\n",
       "    <tr>\n",
       "      <th>1099</th>\n",
       "      <td>1461.890015</td>\n",
       "      <td>33.919998</td>\n",
       "      <td>29.180000</td>\n",
       "      <td>1.306745</td>\n",
       "    </tr>\n",
       "    <tr>\n",
       "      <th>1608</th>\n",
       "      <td>2092.429932</td>\n",
       "      <td>18.500000</td>\n",
       "      <td>15.600000</td>\n",
       "      <td>1.057295</td>\n",
       "    </tr>\n",
       "  </tbody>\n",
       "</table>\n",
       "<p>1832 rows × 4 columns</p>\n",
       "</div>"
      ],
      "text/plain": [
       "              SPX        USO        SLV   EUR/USD\n",
       "476   1138.500000  39.790001  16.889999  1.361693\n",
       "1958  2202.939941  10.630000  15.800000  1.063886\n",
       "248    700.820007  24.480000  12.770000  1.256408\n",
       "2231  2656.000000  11.890000  15.570000  1.225280\n",
       "1325  1838.880005  33.040001  19.420000  1.366998\n",
       "...           ...        ...        ...       ...\n",
       "1071  1409.150024  32.320000  32.980000  1.287515\n",
       "433   1132.989990  40.270000  17.230000  1.442398\n",
       "674   1286.119995  38.610001  27.389999  1.357276\n",
       "1099  1461.890015  33.919998  29.180000  1.306745\n",
       "1608  2092.429932  18.500000  15.600000  1.057295\n",
       "\n",
       "[1832 rows x 4 columns]"
      ]
     },
     "execution_count": 56,
     "metadata": {},
     "output_type": "execute_result"
    }
   ],
   "source": [
    "X_train"
   ]
  },
  {
   "cell_type": "code",
   "execution_count": 57,
   "id": "d916dd11",
   "metadata": {},
   "outputs": [
    {
     "data": {
      "text/plain": [
       "476     109.879997\n",
       "1958    115.540001\n",
       "248      90.930000\n",
       "2231    125.370003\n",
       "1325    119.889999\n",
       "           ...    \n",
       "1071    169.610001\n",
       "433     109.800003\n",
       "674     129.869995\n",
       "1099    159.429993\n",
       "1608    115.139999\n",
       "Name: GLD, Length: 1832, dtype: float64"
      ]
     },
     "execution_count": 57,
     "metadata": {},
     "output_type": "execute_result"
    }
   ],
   "source": [
    "Y_train"
   ]
  },
  {
   "cell_type": "code",
   "execution_count": 58,
   "id": "a90339c9",
   "metadata": {},
   "outputs": [
    {
     "data": {
      "text/html": [
       "<div>\n",
       "<style scoped>\n",
       "    .dataframe tbody tr th:only-of-type {\n",
       "        vertical-align: middle;\n",
       "    }\n",
       "\n",
       "    .dataframe tbody tr th {\n",
       "        vertical-align: top;\n",
       "    }\n",
       "\n",
       "    .dataframe thead th {\n",
       "        text-align: right;\n",
       "    }\n",
       "</style>\n",
       "<table border=\"1\" class=\"dataframe\">\n",
       "  <thead>\n",
       "    <tr style=\"text-align: right;\">\n",
       "      <th></th>\n",
       "      <th>SPX</th>\n",
       "      <th>USO</th>\n",
       "      <th>SLV</th>\n",
       "      <th>EUR/USD</th>\n",
       "    </tr>\n",
       "  </thead>\n",
       "  <tbody>\n",
       "    <tr>\n",
       "      <th>903</th>\n",
       "      <td>1351.949951</td>\n",
       "      <td>38.330002</td>\n",
       "      <td>32.900002</td>\n",
       "      <td>1.324854</td>\n",
       "    </tr>\n",
       "    <tr>\n",
       "      <th>129</th>\n",
       "      <td>1271.510010</td>\n",
       "      <td>93.900002</td>\n",
       "      <td>13.450000</td>\n",
       "      <td>1.472581</td>\n",
       "    </tr>\n",
       "    <tr>\n",
       "      <th>1787</th>\n",
       "      <td>1880.050049</td>\n",
       "      <td>8.910000</td>\n",
       "      <td>14.340000</td>\n",
       "      <td>1.119996</td>\n",
       "    </tr>\n",
       "    <tr>\n",
       "      <th>1913</th>\n",
       "      <td>2181.300049</td>\n",
       "      <td>10.960000</td>\n",
       "      <td>18.620001</td>\n",
       "      <td>1.127142</td>\n",
       "    </tr>\n",
       "    <tr>\n",
       "      <th>2048</th>\n",
       "      <td>2352.949951</td>\n",
       "      <td>10.680000</td>\n",
       "      <td>17.320000</td>\n",
       "      <td>1.067247</td>\n",
       "    </tr>\n",
       "    <tr>\n",
       "      <th>...</th>\n",
       "      <td>...</td>\n",
       "      <td>...</td>\n",
       "      <td>...</td>\n",
       "      <td>...</td>\n",
       "    </tr>\n",
       "    <tr>\n",
       "      <th>923</th>\n",
       "      <td>1370.869995</td>\n",
       "      <td>41.090000</td>\n",
       "      <td>33.220001</td>\n",
       "      <td>1.327492</td>\n",
       "    </tr>\n",
       "    <tr>\n",
       "      <th>1693</th>\n",
       "      <td>1952.290039</td>\n",
       "      <td>14.930000</td>\n",
       "      <td>13.990000</td>\n",
       "      <td>1.129089</td>\n",
       "    </tr>\n",
       "    <tr>\n",
       "      <th>2054</th>\n",
       "      <td>2349.010010</td>\n",
       "      <td>11.060000</td>\n",
       "      <td>17.430000</td>\n",
       "      <td>1.064453</td>\n",
       "    </tr>\n",
       "    <tr>\n",
       "      <th>658</th>\n",
       "      <td>1273.849976</td>\n",
       "      <td>37.680000</td>\n",
       "      <td>28.420000</td>\n",
       "      <td>1.315686</td>\n",
       "    </tr>\n",
       "    <tr>\n",
       "      <th>376</th>\n",
       "      <td>1057.579956</td>\n",
       "      <td>35.959999</td>\n",
       "      <td>17.250000</td>\n",
       "      <td>1.478131</td>\n",
       "    </tr>\n",
       "  </tbody>\n",
       "</table>\n",
       "<p>458 rows × 4 columns</p>\n",
       "</div>"
      ],
      "text/plain": [
       "              SPX        USO        SLV   EUR/USD\n",
       "903   1351.949951  38.330002  32.900002  1.324854\n",
       "129   1271.510010  93.900002  13.450000  1.472581\n",
       "1787  1880.050049   8.910000  14.340000  1.119996\n",
       "1913  2181.300049  10.960000  18.620001  1.127142\n",
       "2048  2352.949951  10.680000  17.320000  1.067247\n",
       "...           ...        ...        ...       ...\n",
       "923   1370.869995  41.090000  33.220001  1.327492\n",
       "1693  1952.290039  14.930000  13.990000  1.129089\n",
       "2054  2349.010010  11.060000  17.430000  1.064453\n",
       "658   1273.849976  37.680000  28.420000  1.315686\n",
       "376   1057.579956  35.959999  17.250000  1.478131\n",
       "\n",
       "[458 rows x 4 columns]"
      ]
     },
     "execution_count": 58,
     "metadata": {},
     "output_type": "execute_result"
    }
   ],
   "source": [
    "X_test"
   ]
  },
  {
   "cell_type": "code",
   "execution_count": 59,
   "id": "2f2ae902",
   "metadata": {},
   "outputs": [
    {
     "data": {
      "text/plain": [
       "903     168.020004\n",
       "129      81.230003\n",
       "1787    112.320000\n",
       "1913    127.589996\n",
       "2048    119.620003\n",
       "           ...    \n",
       "923     166.380005\n",
       "1693    106.379997\n",
       "2054    122.239998\n",
       "658     133.830002\n",
       "376     102.360001\n",
       "Name: GLD, Length: 458, dtype: float64"
      ]
     },
     "execution_count": 59,
     "metadata": {},
     "output_type": "execute_result"
    }
   ],
   "source": [
    "Y_test"
   ]
  },
  {
   "cell_type": "markdown",
   "id": "69b3b3d0",
   "metadata": {},
   "source": [
    "# Model training"
   ]
  },
  {
   "cell_type": "markdown",
   "id": "12adb673",
   "metadata": {},
   "source": [
    "# we will use ensemble model of random forest regressor."
   ]
  },
  {
   "cell_type": "code",
   "execution_count": 62,
   "id": "1d55b5e6",
   "metadata": {},
   "outputs": [],
   "source": [
    "regressor=RandomForestRegressor(n_estimators=100)"
   ]
  },
  {
   "cell_type": "code",
   "execution_count": 65,
   "id": "e3157bef",
   "metadata": {},
   "outputs": [
    {
     "data": {
      "text/html": [
       "<style>#sk-container-id-2 {color: black;}#sk-container-id-2 pre{padding: 0;}#sk-container-id-2 div.sk-toggleable {background-color: white;}#sk-container-id-2 label.sk-toggleable__label {cursor: pointer;display: block;width: 100%;margin-bottom: 0;padding: 0.3em;box-sizing: border-box;text-align: center;}#sk-container-id-2 label.sk-toggleable__label-arrow:before {content: \"▸\";float: left;margin-right: 0.25em;color: #696969;}#sk-container-id-2 label.sk-toggleable__label-arrow:hover:before {color: black;}#sk-container-id-2 div.sk-estimator:hover label.sk-toggleable__label-arrow:before {color: black;}#sk-container-id-2 div.sk-toggleable__content {max-height: 0;max-width: 0;overflow: hidden;text-align: left;background-color: #f0f8ff;}#sk-container-id-2 div.sk-toggleable__content pre {margin: 0.2em;color: black;border-radius: 0.25em;background-color: #f0f8ff;}#sk-container-id-2 input.sk-toggleable__control:checked~div.sk-toggleable__content {max-height: 200px;max-width: 100%;overflow: auto;}#sk-container-id-2 input.sk-toggleable__control:checked~label.sk-toggleable__label-arrow:before {content: \"▾\";}#sk-container-id-2 div.sk-estimator input.sk-toggleable__control:checked~label.sk-toggleable__label {background-color: #d4ebff;}#sk-container-id-2 div.sk-label input.sk-toggleable__control:checked~label.sk-toggleable__label {background-color: #d4ebff;}#sk-container-id-2 input.sk-hidden--visually {border: 0;clip: rect(1px 1px 1px 1px);clip: rect(1px, 1px, 1px, 1px);height: 1px;margin: -1px;overflow: hidden;padding: 0;position: absolute;width: 1px;}#sk-container-id-2 div.sk-estimator {font-family: monospace;background-color: #f0f8ff;border: 1px dotted black;border-radius: 0.25em;box-sizing: border-box;margin-bottom: 0.5em;}#sk-container-id-2 div.sk-estimator:hover {background-color: #d4ebff;}#sk-container-id-2 div.sk-parallel-item::after {content: \"\";width: 100%;border-bottom: 1px solid gray;flex-grow: 1;}#sk-container-id-2 div.sk-label:hover label.sk-toggleable__label {background-color: #d4ebff;}#sk-container-id-2 div.sk-serial::before {content: \"\";position: absolute;border-left: 1px solid gray;box-sizing: border-box;top: 0;bottom: 0;left: 50%;z-index: 0;}#sk-container-id-2 div.sk-serial {display: flex;flex-direction: column;align-items: center;background-color: white;padding-right: 0.2em;padding-left: 0.2em;position: relative;}#sk-container-id-2 div.sk-item {position: relative;z-index: 1;}#sk-container-id-2 div.sk-parallel {display: flex;align-items: stretch;justify-content: center;background-color: white;position: relative;}#sk-container-id-2 div.sk-item::before, #sk-container-id-2 div.sk-parallel-item::before {content: \"\";position: absolute;border-left: 1px solid gray;box-sizing: border-box;top: 0;bottom: 0;left: 50%;z-index: -1;}#sk-container-id-2 div.sk-parallel-item {display: flex;flex-direction: column;z-index: 1;position: relative;background-color: white;}#sk-container-id-2 div.sk-parallel-item:first-child::after {align-self: flex-end;width: 50%;}#sk-container-id-2 div.sk-parallel-item:last-child::after {align-self: flex-start;width: 50%;}#sk-container-id-2 div.sk-parallel-item:only-child::after {width: 0;}#sk-container-id-2 div.sk-dashed-wrapped {border: 1px dashed gray;margin: 0 0.4em 0.5em 0.4em;box-sizing: border-box;padding-bottom: 0.4em;background-color: white;}#sk-container-id-2 div.sk-label label {font-family: monospace;font-weight: bold;display: inline-block;line-height: 1.2em;}#sk-container-id-2 div.sk-label-container {text-align: center;}#sk-container-id-2 div.sk-container {/* jupyter's `normalize.less` sets `[hidden] { display: none; }` but bootstrap.min.css set `[hidden] { display: none !important; }` so we also need the `!important` here to be able to override the default hidden behavior on the sphinx rendered scikit-learn.org. See: https://github.com/scikit-learn/scikit-learn/issues/21755 */display: inline-block !important;position: relative;}#sk-container-id-2 div.sk-text-repr-fallback {display: none;}</style><div id=\"sk-container-id-2\" class=\"sk-top-container\"><div class=\"sk-text-repr-fallback\"><pre>RandomForestRegressor()</pre><b>In a Jupyter environment, please rerun this cell to show the HTML representation or trust the notebook. <br />On GitHub, the HTML representation is unable to render, please try loading this page with nbviewer.org.</b></div><div class=\"sk-container\" hidden><div class=\"sk-item\"><div class=\"sk-estimator sk-toggleable\"><input class=\"sk-toggleable__control sk-hidden--visually\" id=\"sk-estimator-id-2\" type=\"checkbox\" checked><label for=\"sk-estimator-id-2\" class=\"sk-toggleable__label sk-toggleable__label-arrow\">RandomForestRegressor</label><div class=\"sk-toggleable__content\"><pre>RandomForestRegressor()</pre></div></div></div></div></div>"
      ],
      "text/plain": [
       "RandomForestRegressor()"
      ]
     },
     "execution_count": 65,
     "metadata": {},
     "output_type": "execute_result"
    }
   ],
   "source": [
    "regressor.fit(X_train,Y_train)"
   ]
  },
  {
   "cell_type": "markdown",
   "id": "baf35a7b",
   "metadata": {},
   "source": [
    "# Model Evaluation"
   ]
  },
  {
   "cell_type": "code",
   "execution_count": 67,
   "id": "f60778d1",
   "metadata": {},
   "outputs": [],
   "source": [
    "test_data_prediction=regressor.predict(X_test)"
   ]
  },
  {
   "cell_type": "code",
   "execution_count": 68,
   "id": "9d6629a8",
   "metadata": {},
   "outputs": [
    {
     "name": "stdout",
     "output_type": "stream",
     "text": [
      "[168.33459906  81.81179999 116.0618002  127.65760074 120.74910116\n",
      " 154.60769746 150.4067985  126.20250037 117.41899888 126.22700031\n",
      " 116.77160087 171.49740052 141.43959856 167.82749944 114.92060031\n",
      " 117.50170035 138.40350296 170.28860052 159.83810283 158.99069862\n",
      " 155.21610039 125.38549999 176.68739983 157.43940251 125.09530046\n",
      "  93.67099993  76.67980071 120.53030032 119.05349921 167.53849957\n",
      "  88.26350069 125.17329994  91.11640073 117.69909985 121.03159945\n",
      " 136.25010107 115.40040116 114.89700039 146.18819975 107.10810127\n",
      " 104.59960239  87.22999774 126.43820036 118.19360028 153.53159946\n",
      " 119.63860005 108.45170056 107.97519829  93.26000059 127.29759745\n",
      "  75.3644001  113.68089917 121.33089976 111.33569893 118.98179888\n",
      " 120.70899914 158.87149973 167.81570086 147.26559689  85.79599833\n",
      "  94.30720042  86.79119893  90.57710054 118.89680045 126.4725005\n",
      " 127.49560033 169.80630041 122.19189937 117.60189865  98.1884001\n",
      " 167.96710057 142.8532987  131.61440225 121.26690211 121.15499945\n",
      " 119.59150074 114.59710171 118.38790064 106.95730126 127.89660096\n",
      " 114.01769923 107.31409977 116.58240077 119.63719896  89.23570083\n",
      "  88.2316986  146.72800169 127.32570025 113.5369005  110.23859833\n",
      " 108.18929907  77.16079936 168.33590131 113.98279918 121.70509934\n",
      " 127.60670206 154.98579795  91.83589975 135.10800098 158.76260352\n",
      " 125.71280054 125.46280052 130.50870235 114.83890137 119.91110003\n",
      "  92.11079994 110.12389867 167.20499903 157.72209902 114.16409971\n",
      " 106.70780106  79.50579982 113.30380026 125.88440073 107.061399\n",
      " 119.56150132 155.44540272 159.21749884 119.87809988 134.93530282\n",
      " 101.26750018 117.58249792 119.36740054 112.95520087 102.80079902\n",
      " 159.95359822  98.90180008 146.96639962 125.6233012  169.6347991\n",
      " 125.75589891 127.30239799 127.29840151 113.75499939 112.88010079\n",
      " 123.44709923 102.11439879  89.35569947 124.61849928 101.7387996\n",
      " 107.16279861 113.63340031 117.23130082  99.07389952 121.92450039\n",
      " 163.59599949  87.41439858 106.59359984 117.18330074 127.70510191\n",
      " 123.96820049  80.66099937 120.15800043 157.64559835  87.84969963\n",
      " 110.25229957 118.9468991  172.06239877 102.91339923 105.74480037\n",
      " 122.46200009 157.78969757  87.52519822  93.46210055 112.95460035\n",
      " 177.61580068 114.35029987 119.35470028  94.50440068 125.82309993\n",
      " 166.55880035 114.7236007  116.57680159  88.36729875 149.01590134\n",
      " 120.41319936  89.53200036 112.15559987 117.32750074 118.71530117\n",
      "  88.0141993   94.05639999 117.10100018 118.6253015  120.43940089\n",
      " 126.79159785 121.90500022 150.94859998 164.71419996 118.54679963\n",
      " 120.44600145 150.55910065 118.36469937 172.28599876 105.41279936\n",
      " 105.04740108 149.77900147 113.86740085 124.75740106 148.2475002\n",
      " 119.63330119 115.13880001 112.44819974 113.41650201 141.46520197\n",
      " 117.91249766 102.96310048 115.87450119 103.87080184  98.45330059\n",
      " 117.46530075  90.49020045  91.55170043 153.71939916 102.62800018\n",
      " 154.45540106 114.3033014  138.7002005   90.09589832 115.45859941\n",
      " 114.13039968 123.01390017 121.71620021 165.3454008   93.06259953\n",
      " 135.44040177 121.24269965 120.93280044 104.4640003  141.57830297\n",
      " 121.64399961 116.56950042 113.77240074 127.00569697 122.56919955\n",
      " 125.71719898 121.11320047  86.88549862 132.20280175 144.12990207\n",
      "  92.67169971 159.70729979 158.25250263 126.10259939 164.69009887\n",
      " 108.85719946 110.37880104 103.76599835  94.22080089 127.77550245\n",
      " 106.94399993 162.19559992 121.80110028 131.94090022 130.66580151\n",
      " 161.18879956  90.10679899 175.39370234 127.36850018 126.71679857\n",
      "  86.30749883 124.37149953 150.40279718  89.62530057 106.81049994\n",
      " 109.04779997  84.24179903 136.08510048 155.04360228 138.77370348\n",
      "  73.50230049 152.53350131 126.20490001 126.78909991 127.55909931\n",
      " 108.48969946 156.13039983 114.57030113 116.98210168 125.17579929\n",
      " 154.00990104 121.13510012 156.4501987   92.94610038 125.4948014\n",
      " 125.86990057  87.8051006   91.99609913 126.19069922 128.19340377\n",
      " 113.21200019 117.83389737 121.06009977 127.0126974  119.73860115\n",
      " 136.29599978  94.01140004 120.00830048 113.30060074  94.37839972\n",
      " 108.51739974  87.22629932 109.15899906  89.56059988  92.55060036\n",
      " 131.62390244 162.16619982  89.36440048 119.43880104 133.2998021\n",
      " 123.86860015 128.293102   101.96199828  88.91349894 131.81190056\n",
      " 119.90460018 108.48030019 167.56290015 115.19680053  86.61419872\n",
      " 118.71280057  90.91440003 161.89010061 116.4464005  121.45750026\n",
      " 160.15679772 120.11389919 112.95229938 108.43709873 126.8402996\n",
      "  76.07180038 102.92369947 127.67840272 121.79929927  92.70410002\n",
      " 132.18610032 118.2451008  115.95919951 154.37150324 159.71780043\n",
      " 110.11139969 154.03779819 119.1789009  160.37140105 118.40090063\n",
      " 158.64939859 115.12789913 116.46040021 149.51309896 114.95440094\n",
      " 125.73889856 166.66919911 117.54080004 124.92659912 153.45900314\n",
      " 153.4730018  132.07600005 114.71660035 121.24190217 125.01960049\n",
      "  89.79810051 122.68770017 154.48310223 111.73230025 106.6496999\n",
      " 161.62590142 118.68049985 165.71190058 134.19490117 114.70849951\n",
      " 152.97129845 168.87269989 115.3607001  114.0219012  159.10359854\n",
      "  85.4468985  126.99250076 127.85809966 128.79600051 124.31490076\n",
      " 123.95440096  90.63100127 153.42620006  97.10829997 137.08499972\n",
      "  89.12669974 107.14939997 115.03420061 112.58580081 123.88579955\n",
      "  91.33819911 125.29030073 162.32019905 119.89999896 164.97920031\n",
      " 126.73139805 112.3740001  127.57769937  94.96309935  90.99120025\n",
      " 103.42359924 120.92599992  83.24029951 126.39349967 160.93810493\n",
      " 117.16190101 118.32089997 120.11729996 122.84599975 120.13860131\n",
      " 121.36979999 118.17360019 106.91239949 148.29890023 126.32959842\n",
      " 115.69320042  73.92470001 127.8378008  155.05540124 121.76560001\n",
      " 125.57700046  88.82880058 103.4390991  124.63410028 120.35830052\n",
      "  73.23680084 151.76940107 121.385      104.82530009  86.35689786\n",
      " 115.30139908 172.07229827 119.89650017 160.45039735 113.23999965\n",
      " 120.93400041 118.5990006   96.07769991 118.79630046 125.88880013\n",
      " 118.42339971  95.89650077 153.96950188 121.71680009 147.7762001\n",
      " 159.48220247 113.70880035 122.65719929 150.01749758 127.31740043\n",
      " 165.55760058 135.36320102 120.17709951 167.22369875 108.35159945\n",
      " 121.60509857 138.86130101 108.01689924]\n"
     ]
    }
   ],
   "source": [
    "print(test_data_prediction)"
   ]
  },
  {
   "cell_type": "markdown",
   "id": "7538840e",
   "metadata": {},
   "source": [
    "R squared error"
   ]
  },
  {
   "cell_type": "code",
   "execution_count": 69,
   "id": "6001372b",
   "metadata": {},
   "outputs": [],
   "source": [
    "error_score=metrics.r2_score(Y_test,test_data_prediction)"
   ]
  },
  {
   "cell_type": "code",
   "execution_count": 70,
   "id": "237173e8",
   "metadata": {},
   "outputs": [
    {
     "name": "stdout",
     "output_type": "stream",
     "text": [
      "R squared error : 0.9892724188312787\n"
     ]
    }
   ],
   "source": [
    "print(\"R squared error :\",error_score)"
   ]
  },
  {
   "cell_type": "markdown",
   "id": "a26b9296",
   "metadata": {},
   "source": [
    "lets compare the predicted and true values using graph."
   ]
  },
  {
   "cell_type": "code",
   "execution_count": 71,
   "id": "68b8c978",
   "metadata": {},
   "outputs": [],
   "source": [
    "Y_test=list(Y_test)"
   ]
  },
  {
   "cell_type": "code",
   "execution_count": 75,
   "id": "caa2570f",
   "metadata": {},
   "outputs": [
    {
     "data": {
      "image/png": "[encoded data removed]",
      "text/plain": [
       "<Figure size 640x480 with 1 Axes>"
      ]
     },
     "metadata": {},
     "output_type": "display_data"
    }
   ],
   "source": [
    "plt.plot(Y_test,color='blue',label='Actual Value')\n",
    "plt.plot(test_data_prediction,color='green',label='Predicted Value')\n",
    "plt.title(\"Actual Pice vs Predicted Price\")\n",
    "plt.xlabel(\"number of values\")\n",
    "plt.ylabel(\"GLD price\")\n",
    "plt.legend()\n",
    "plt.show()"
   ]
  },
  {
   "cell_type": "code",
   "execution_count": 83,
   "id": "cc80cde5",
   "metadata": {},
   "outputs": [
    {
     "name": "stdout",
     "output_type": "stream",
     "text": [
      "[(168.33459906000004, 168.020004), (81.81179999000007, 81.230003), (116.06180019999998, 112.32), (127.65760074000003, 127.589996), (120.74910115999997, 119.620003), (154.60769745999997, 154.210007), (150.40679849999998, 148.910004), (126.20250037000001, 126.190002), (117.41899888000013, 117.470001), (126.22700031000001, 125.739998), (116.77160086999997, 115.379997), (171.49740052000007, 167.119995), (141.43959855999998, 141.630005), (167.8274994399999, 169.559998), (114.92060031000007, 115.599998), (117.50170035000005, 119.669998), (138.4035029600001, 132.949997), (170.28860052000005, 170.399994), (159.83810283000008, 159.369995), (158.99069862000005, 173.529999), (155.21610039000007, 154.720001), (125.38549998999993, 128.119995), (176.68739982999992, 177.720001), (157.43940251000012, 157.190002), (125.09530046, 125.309998), (93.6709999299999, 93.400002), (76.67980070999994, 76.790001), (120.53030031999991, 119.690002), (119.05349920999994, 118.989998), (167.5384995699999, 167.389999), (88.26350069, 87.5), (125.17329994000009, 124.980003), (91.11640072999995, 91.230003), (117.69909984999993, 115.489998), (121.03159945000002, 120.949997), (136.25010106999997, 133.809998), (115.40040115999993, 116.690002), (114.89700039000002, 113.809998), (146.18819974999988, 133.580002), (107.10810126999995, 105.970001), (104.59960239, 105.120003), (87.22999773999996, 87.959999), (126.43820036000002, 126.82), (118.19360027999996, 116.860001), (153.53159945999997, 159.259995), (119.63860004999998, 119.459999), (108.45170055999999, 109.160004), (107.97519828999995, 108.620003), (93.26000059000008, 93.269997), (127.29759745000001, 127.160004), (75.36440009999998, 72.260002), (113.68089916999999, 113.470001), (121.33089975999995, 119.68), (111.33569892999995, 109.139999), (118.98179887999983, 119.309998), (120.70899913999996, 120.050003), (158.8714997299999, 159.889999), (167.81570086000008, 161.490005), (147.26559688999976, 146.740005), (85.79599832999993, 85.809998), (94.30720042000004, 93.709999), (86.79119893, 85.550003), (90.57710054000005, 91.029999), (118.8968004500001, 118.489998), (126.47250050000014, 126.449997), (127.49560033000002, 126.980003), (169.8063004099999, 171.699997), (122.19189937000002, 122.400002), (117.60189864999992, 116.410004), (98.18840010000004, 97.959999), (167.9671005700001, 169.630005), (142.85329870000012, 142.639999), (131.61440224999996, 131.809998), (121.26690210999998, 121.360001), (121.1549994499999, 124.0), (119.5915007399999, 119.699997), (114.59710171000002, 113.889999), (118.38790063999996, 118.919998), (106.95730126000001, 105.639999), (127.89660095999994, 127.669998), (114.01769922999983, 114.32), (107.31409976999996, 107.309998), (116.5824007699999, 114.82), (119.63719895999989, 119.230003), (89.23570082999998, 86.860001), (88.2316986, 87.010002), (146.72800169000016, 147.729996), (127.32570025000001, 128.199997), (113.53690049999994, 113.260002), (110.23859832999995, 110.82), (108.1892990700001, 107.360001), (77.16079935999996, 74.220001), (168.33590131, 172.940002), (113.98279918000013, 114.099998), (121.70509934, 121.650002), (127.60670205999998, 129.110001), (154.9857979500001, 156.770004), (91.83589975000001, 91.660004), (135.1080009799999, 133.479996), (158.76260352000003, 161.029999), (125.71280053999998, 128.470001), (125.46280052000007, 125.75), (130.50870235, 132.289993), (114.83890137000006, 114.019997), (119.91110002999999, 118.230003), (92.11079993999996, 93.709999), (110.12389867000002, 111.150002), (167.20499902999995, 164.289993), (157.72209901999994, 157.770004), (114.1640997100001, 115.510002), (106.70780106000001, 107.129997), (79.50579981999998, 83.309998), (113.30380025999999, 115.150002), (125.88440072999998, 125.540001), (107.06139900000005, 106.080002), (119.56150131999993, 120.580002), (155.44540272000006, 157.139999), (159.21749884, 161.059998), (119.87809988000006, 120.309998), (134.9353028200001, 133.070007), (101.26750018000001, 103.949997), (117.58249792000001, 116.360001), (119.36740054000008, 119.309998), (112.95520086999998, 112.370003), (102.80079902000008, 102.839996), (159.95359821999998, 161.199997), (98.90180008000003, 97.050003), (146.9663996200001, 147.830002), (125.62330119999997, 125.32), (169.6347991000001, 171.139999), (125.75589891000006, 123.540001), (127.30239798999997, 127.07), (127.29840151000012, 127.959999), (113.75499938999994, 114.830002), (112.88010079000007, 111.540001), (123.44709922999994, 122.849998), (102.11439879000008, 100.5), (89.35569946999998, 90.040001), (124.61849928000004, 123.989998), (101.73879959999998, 98.900002), (107.1627986099999, 106.169998), (113.63340030999993, 110.82), (117.23130082000006, 120.389999), (99.07389951999996, 98.849998), (121.92450038999993, 122.449997), (163.5959994900001, 162.300003), (87.41439857999994, 86.650002), (106.59359983999995, 106.150002), (117.18330074000005, 116.43), (127.70510190999994, 127.959999), (123.96820049000007, 122.830002), (80.66099937000003, 80.760002), (120.15800042999994, 119.529999), (157.6455983499999, 159.729996), (87.84969962999999, 88.470001), (110.25229956999998, 110.160004), (118.94689910000015, 115.940002), (172.06239877, 170.75), (102.91339923000004, 102.339996), (105.74480036999988, 105.019997), (122.46200009000013, 122.730003), (157.78969756999987, 160.330002), (87.52519822000004, 86.949997), (93.46210055000002, 93.190002), (112.95460034999995, 111.43), (177.61580068, 172.360001), (114.35029987, 114.120003), (119.35470028000007, 120.129997), (94.50440067999993, 93.699997), (125.82309992999998, 126.089996), (166.5588003500001, 167.619995), (114.72360070000006, 116.330002), (116.57680159000012, 117.120003), (88.36729875, 87.25), (149.01590133999986, 149.199997), (120.41319936000002, 118.690002), (89.53200035999997, 89.419998), (112.15559987000005, 113.650002), (117.32750073999999, 115.519997), (118.71530116999992, 118.669998), (88.01419929999999, 86.989998), (94.05639998999993, 93.830002), (117.1010001800001, 116.550003), (118.6253015, 118.300003), (120.43940088999997, 121.800003), (126.79159785000003, 127.660004), (121.90500022000008, 122.699997), (150.94859997999993, 137.710007), (164.71419996, 163.630005), (118.54679962999998, 118.43), (120.44600145000008, 120.870003), (150.55910064999995, 152.619995), (118.36469937000004, 117.959999), (172.28599876000004, 160.639999), (105.41279936000007, 99.910004), (105.04740108000004, 104.269997), (149.77900146999983, 149.820007), (113.86740085000005, 110.449997), (124.75740106000008, 125.440002), (148.24750020000013, 145.649994), (119.63330119000005, 120.220001), (115.13880001000008, 115.68), (112.44819974000008, 113.029999), (113.41650201, 112.150002), (141.46520196999995, 134.050003), (117.91249765999993, 118.059998), (102.96310048000011, 102.610001), (115.87450119, 116.339996), (103.87080183999998, 104.68), (98.45330059, 98.830002), (117.46530075000004, 116.089996), (90.49020045000005, 91.089996), (91.55170043, 92.080002), (153.71939915999997, 154.669998), (102.62800018000006, 102.43), (154.45540105999987, 154.770004), (114.30330140000004, 113.68), (138.7002004999999, 138.089996), (90.09589831999996, 91.330002), (115.45859941000005, 116.330002), (114.13039967999995, 115.669998), (123.01390017000007, 122.5438), (121.71620021000001, 122.290001), (165.3454008000001, 166.020004), (93.06259953000004, 92.739998), (135.4404017699999, 137.240005), (121.24269964999993, 121.309998), (120.93280043999992, 119.550003), (104.4640003, 104.669998), (141.57830296999998, 135.050003), (121.64399960999987, 122.919998), (116.56950041999993, 115.620003), (113.77240074000005, 113.150002), (127.00569697000009, 124.269997), (122.56919954999987, 123.349998), (125.71719897999988, 125.779999), (121.11320046999987, 121.559998), (86.88549862000002, 85.82), (132.20280175000005, 132.449997), (144.12990207000018, 154.869995), (92.67169971000003, 92.059998), (159.70729979000004, 148.970001), (158.25250263, 161.880005), (126.10259939000007, 127.199997), (164.69009887, 167.350006), (108.85719945999993, 108.559998), (110.37880104000008, 110.440002), (103.76599834999996, 104.209999), (94.22080088999998, 95.769997), (127.77550244999999, 129.470001), (106.94399992999999, 108.349998), (162.19559992000003, 149.119995), (121.8011002799999, 121.730003), (131.94090021999995, 131.699997), (130.66580150999994, 131.960007), (161.18879955999992, 160.990005), (90.10679898999996, 90.57), (175.39370233999995, 173.889999), (127.3685001799999, 128.089996), (126.71679857000005, 127.550003), (86.30749882999993, 86.779999), (124.37149952999995, 123.940002), (150.40279718000002, 150.419998), (89.62530057000002, 89.269997), (106.81049993999996, 108.050003), (109.04779997, 111.019997), (84.24179902999997, 89.18), (136.0851004800001, 138.369995), (155.04360228, 156.220001), (138.77370348000002, 134.660004), (73.50230048999995, 73.580002), (152.53350131000005, 152.970001), (126.20490000999996, 126.559998), (126.78909991000006, 126.139999), (127.55909930999995, 127.75), (108.48969945999993, 108.360001), (156.13039982999993, 157.460007), (114.57030113000008, 114.0), (116.98210168000006, 116.989998), (125.17579928999996, 126.860001), (154.00990103999996, 155.240005), (121.13510012, 120.650002), (156.4501987000001, 156.990005), (92.94610038000002, 92.790001), (125.49480139999994, 125.389999), (125.86990057000001, 124.889999), (87.80510059999997, 88.25), (91.9960991299999, 91.93), (126.19069922, 126.339996), (128.1934037699999, 128.839996), (113.21200018999994, 112.889999), (117.83389737000007, 117.360001), (121.0600997699999, 119.739998), (127.01269740000012, 128.179993), (119.73860115000004, 121.480003), (136.2959997799999, 134.199997), (94.01140003999997, 93.900002), (120.00830047999996, 118.900002), (113.30060073999998, 112.300003), (94.37839972000005, 94.779999), (108.51739974, 108.699997), (87.22629931999991, 86.709999), (109.15899905999991, 110.260002), (89.56059988000003, 88.639999), (92.55060036, 93.239998), (131.62390244, 131.320007), (162.16619981999986, 163.089996), (89.36440047999999, 90.120003), (119.43880104000007, 119.82), (133.29980209999997, 133.940002), (123.86860015000008, 125.839996), (128.29310200000006, 127.739998), (101.96199828000003, 101.459999), (88.91349894000001, 89.18), (131.81190055999997, 132.199997), (119.90460017999997, 122.150002), (108.48030018999997, 110.529999), (167.56290015000005, 172.070007), (115.19680053000002, 115.279999), (86.61419872000002, 85.389999), (118.71280056999994, 121.959999), (90.91440003, 90.760002), (161.8901006100001, 161.300003), (116.44640050000002, 116.519997), (121.45750026, 120.400002), (160.15679771999996, 160.490005), (120.11389919000001, 121.489998), (112.95229937999991, 114.949997), (108.43709873000007, 109.980003), (126.84029960000004, 126.529999), (76.07180038000004, 73.449997), (102.9236994700001, 102.040001), (127.67840271999998, 130.229996), (121.79929926999995, 121.099998), (92.70410002000003, 91.169998), (132.18610031999998, 132.089996), (118.24510080000003, 117.970001), (115.95919950999995, 116.110001), (154.37150323999992, 156.25), (159.71780042999998, 161.600006), (110.11139968999994, 110.209999), (154.03779819000002, 135.410004), (119.17890089999996, 119.040001), (160.3714010499999, 162.020004), (118.40090062999994, 118.080002), (158.64939858999998, 159.699997), (115.12789912999997, 114.43), (116.46040021, 117.980003), (149.51309896, 147.770004), (114.95440094000001, 115.330002), (125.73889856000011, 126.230003), (166.66919911000008, 165.589996), (117.54080004000008, 116.790001), (124.92659912000016, 125.029999), (153.45900313999994, 153.229996), (153.47300180000016, 153.470001), (132.07600004999998, 132.809998), (114.71660035, 115.029999), (121.24190216999999, 120.959999), (125.01960048999997, 126.470001), (89.79810051000008, 93.089996), (122.68770016999997, 122.519997), (154.48310223, 151.410004), (111.73230024999997, 111.669998), (106.64969989999996, 106.949997), (161.62590142000013, 162.619995), (118.68049984999995, 120.050003), (165.71190058, 165.160004), (134.19490117, 131.570007), (114.70849951, 116.169998), (152.9712984500001, 152.990005), (168.87269989000004, 169.429993), (115.36070010000005, 110.57), (114.02190119999989, 115.379997), (159.10359853999992, 161.199997), (85.44689850000005, 85.43), (126.99250075999998, 128.110001), (127.85809966, 127.269997), (128.79600050999989, 129.210007), (124.31490075999992, 125.610001), (123.95440096000007, 124.230003), (90.63100127000006, 91.099998), (153.4262000599999, 151.619995), (97.10829997000002, 96.089996), (137.08499971999998, 136.179993), (89.12669973999996, 90.25), (107.14939996999993, 106.93), (115.03420061000001, 115.470001), (112.58580081, 111.540001), (123.88579955000003, 126.309998), (91.33819910999989, 90.919998), (125.29030072999994, 125.410004), (162.32019904999984, 163.350006), (119.89999895999999, 117.959999), (164.97920030999998, 166.070007), (126.73139805000007, 127.790001), (112.37400009999989, 111.5), (127.57769936999992, 127.580002), (94.96309934999994, 96.910004), (90.99120025000006, 89.980003), (103.42359924000002, 99.339996), (120.92599991999985, 120.419998), (83.24029951000007, 82.199997), (126.3934996700001, 125.370003), (160.93810493000007, 159.429993), (117.16190100999992, 117.099998), (118.32089997000001, 120.730003), (120.11729995999984, 118.650002), (122.8459997499999, 120.620003), (120.13860130999997, 119.480003), (121.36979998999996, 121.18), (118.17360019000006, 118.809998), (106.91239949000003, 107.559998), (148.29890023, 146.380005), (126.32959842000004, 122.830002), (115.69320042, 115.43), (73.92470000999998, 71.709999), (127.8378007999999, 128.070007), (155.05540123999998, 157.199997), (121.76560000999987, 120.860001), (125.5770004599999, 126.239998), (88.82880057999999, 89.010002), (103.43909909999998, 102.550003), (124.63410028000007, 124.32), (120.35830052, 119.910004), (73.23680084000006, 72.150002), (151.76940107000004, 150.75), (121.38499999999996, 120.029999), (104.82530009000011, 104.099998), (86.35689786, 86.230003), (115.30139907999995, 113.580002), (172.07229827000015, 172.100006), (119.89650017, 121.480003), (160.45039734999997, 161.539993), (113.23999964999992, 112.769997), (120.93400040999994, 122.419998), (118.59900060000005, 120.940002), (96.0776999100001, 95.989998), (118.79630045999994, 120.760002), (125.88880012999995, 125.32), (118.42339970999981, 118.080002), (95.89650077, 97.730003), (153.96950188000008, 154.649994), (121.71680008999996, 120.589996), (147.77620010000007, 143.470001), (159.48220246999995, 160.589996), (113.70880034999995, 111.629997), (122.65719928999997, 122.120003), (150.01749758000003, 146.240005), (127.31740042999989, 127.959999), (165.55760058000007, 164.119995), (135.36320101999982, 133.429993), (120.17709950999993, 122.379997), (167.22369875000004, 166.380005), (108.35159944999994, 106.379997), (121.60509856999988, 122.239998), (138.86130100999998, 133.830002), (108.01689924000007, 102.360001)]\n"
     ]
    }
   ],
   "source": [
    "compare_predictions_with_trueValue= list(zip(test_data_prediction, Y_test))\n",
    "\n",
    "print(compare_predictions_with_trueValue)"
   ]
  }
 ],
 "metadata": {
  "kernelspec": {
   "display_name": "Python 3 (ipykernel)",
   "language": "python",
   "name": "python3"
  },
  "language_info": {
   "codemirror_mode": {
    "name": "ipython",
    "version": 3
   },
   "file_extension": ".py",
   "mimetype": "text/x-python",
   "name": "python",
   "nbconvert_exporter": "python",
   "pygments_lexer": "ipython3",
   "version": "3.11.5"
  }
 },
 "nbformat": 4,
 "nbformat_minor": 5
}
